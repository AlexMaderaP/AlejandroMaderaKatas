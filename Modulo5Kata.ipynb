{
 "cells": [
  {
   "cell_type": "markdown",
   "metadata": {},
   "source": [
    "# Notas"
   ]
  },
  {
   "cell_type": "code",
   "execution_count": 4,
   "metadata": {},
   "outputs": [
    {
     "name": "stdout",
     "output_type": "stream",
     "text": [
      "17\n",
      "22\n"
     ]
    }
   ],
   "source": [
    "seconds = 1042\n",
    "display_minutes = 1042 // 60\n",
    "display_seconds = 1042 % 60\n",
    "print(display_minutes)\n",
    "print(display_seconds)"
   ]
  },
  {
   "cell_type": "code",
   "execution_count": 5,
   "metadata": {},
   "outputs": [
    {
     "name": "stdout",
     "output_type": "stream",
     "text": [
      "La distancia entre la Tierra y Jupiter es 390577533.93 millas\n"
     ]
    }
   ],
   "source": [
    "distanciaTierra = 149597870\n",
    "distanciaJupiter= 778547200\n",
    "\n",
    "distanciaPlanetas = (distanciaJupiter - distanciaTierra) *0.621\n",
    "print(\"La distancia entre la Tierra y Jupiter es %s millas\" % distanciaPlanetas)"
   ]
  },
  {
   "cell_type": "code",
   "execution_count": 6,
   "metadata": {},
   "outputs": [
    {
     "name": "stdout",
     "output_type": "stream",
     "text": [
      "Distancia total en km: 6\n",
      "Distancia total en Millas: 3.726\n"
     ]
    }
   ],
   "source": [
    "distancia1 = input(\"Ingresa la primer distancia \")\n",
    "distancia2 = input(\"Ingresa la segunda distancia \")\n",
    "\n",
    "valor1 = int(distancia1)\n",
    "valor2 = int(distancia2)\n",
    "\n",
    "distanciaTotal = abs(valor1 - valor2)\n",
    "distanciaTotalM = distanciaTotal*.621\n",
    "\n",
    "print(\"Distancia total en km: %s\" % distanciaTotal)\n",
    "print(\"Distancia total en Millas: %s\" % distanciaTotalM)"
   ]
  }
 ],
 "metadata": {
  "interpreter": {
   "hash": "e9c8ad4a27d120ab9ea2052d429a34fca458f5979f31d8044e02ef20ca574767"
  },
  "kernelspec": {
   "display_name": "Python 3.10.2 64-bit",
   "language": "python",
   "name": "python3"
  },
  "language_info": {
   "codemirror_mode": {
    "name": "ipython",
    "version": 3
   },
   "file_extension": ".py",
   "mimetype": "text/x-python",
   "name": "python",
   "nbconvert_exporter": "python",
   "pygments_lexer": "ipython3",
   "version": "3.10.2"
  },
  "orig_nbformat": 4
 },
 "nbformat": 4,
 "nbformat_minor": 2
}
