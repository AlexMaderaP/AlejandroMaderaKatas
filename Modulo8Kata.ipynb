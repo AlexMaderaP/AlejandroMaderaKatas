{
 "cells": [
  {
   "cell_type": "code",
   "execution_count": 11,
   "metadata": {},
   "outputs": [
    {
     "name": "stdout",
     "output_type": "stream",
     "text": [
      "Mars tiene 2 lunas\n",
      "Mars tiene 2 lunas y una circunferencia polar de 6752km\n",
      "6752\n"
     ]
    }
   ],
   "source": [
    "planet = {\n",
    "    'name': 'Mars',\n",
    "    'moons': 2\n",
    "}\n",
    "\n",
    "print(f'{planet[\"name\"]} tiene {planet[\"moons\"]} lunas')\n",
    "\n",
    "\n",
    "planet['circunferencia(km)'] = {\n",
    "    'polar':6752,\n",
    "    'equatorial':6792\n",
    "}\n",
    "\n",
    "print(f'{planet[\"name\"]} tiene {planet[\"moons\"]} lunas y una circunferencia polar de {planet[\"circunferencia(km)\"][\"polar\"]}km')\n",
    "print(planet['circunferencia(km)']['polar'])"
   ]
  },
  {
   "cell_type": "code",
   "execution_count": 7,
   "metadata": {},
   "outputs": [
    {
     "name": "stdout",
     "output_type": "stream",
     "text": [
      "214\n",
      "12\n",
      "17.833333333333332\n"
     ]
    }
   ],
   "source": [
    "planet_moons = {\n",
    "    'mercury': 0,\n",
    "    'venus': 0,\n",
    "    'earth': 1,\n",
    "    'mars': 2,\n",
    "    'jupiter': 79,\n",
    "    'saturn': 82,\n",
    "    'uranus': 27,\n",
    "    'neptune': 14,\n",
    "    'pluto': 5,\n",
    "    'haumea': 2,\n",
    "    'makemake': 1,\n",
    "    'eris': 1\n",
    "}\n",
    "\n",
    "moons = 0\n",
    "planets = 0\n",
    "\n",
    "for value in planet_moons.values():\n",
    "    moons += value\n",
    "    planets += 1\n",
    "\n",
    "promedioMoons = moons/planets\n",
    "\n",
    "print(moons)\n",
    "print(planets)\n",
    "print(promedioMoons)"
   ]
  }
 ],
 "metadata": {
  "interpreter": {
   "hash": "e9c8ad4a27d120ab9ea2052d429a34fca458f5979f31d8044e02ef20ca574767"
  },
  "kernelspec": {
   "display_name": "Python 3.10.2 64-bit",
   "language": "python",
   "name": "python3"
  },
  "language_info": {
   "codemirror_mode": {
    "name": "ipython",
    "version": 3
   },
   "file_extension": ".py",
   "mimetype": "text/x-python",
   "name": "python",
   "nbconvert_exporter": "python",
   "pygments_lexer": "ipython3",
   "version": "3.10.2"
  },
  "orig_nbformat": 4
 },
 "nbformat": 4,
 "nbformat_minor": 2
}
