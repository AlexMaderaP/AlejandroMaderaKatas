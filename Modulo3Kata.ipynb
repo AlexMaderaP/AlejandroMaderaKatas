{
 "cells": [
  {
   "cell_type": "code",
   "execution_count": 3,
   "metadata": {},
   "outputs": [],
   "source": [
    "VelocidadAsteroide = 49\n",
    "if VelocidadAsteroide > 25:\n",
    "    print(\"Alerta, el asteroide viaja a: \" + str(VelocidadAsteroide) + \"Km\\h\")\n",
    "\n",
    "\n"
   ]
  },
  {
   "cell_type": "code",
   "execution_count": 7,
   "metadata": {},
   "outputs": [
    {
     "name": "stdout",
     "output_type": "stream",
     "text": [
      "Asteroide cerca de la atmosfera\n"
     ]
    }
   ],
   "source": [
    "VelocidadAsteroide = 19\n",
    "if VelocidadAsteroide > 20:\n",
    "    print(\"Asteroide cerca, busca rayo de luz en el cielo\")\n",
    "elif VelocidadAsteroide < 20 and VelocidadAsteroide > 0:\n",
    "    print(\"Asteroide cerca de la atmosfera\")\n",
    "else:\n",
    "    print(\"Asteroide sin velocidad\")    \n"
   ]
  },
  {
   "cell_type": "code",
   "execution_count": 12,
   "metadata": {},
   "outputs": [
    {
     "name": "stdout",
     "output_type": "stream",
     "text": [
      "No hay alerta por el momento\n"
     ]
    }
   ],
   "source": [
    "VelocidadAsteroide = 19\n",
    "TamanoAsteroide = 400\n",
    "\n",
    "if VelocidadAsteroide >= 25 and TamanoAsteroide > 25:\n",
    "    print(\"Alerta de asteroide, en el cielo se podrian ver rayos\")\n",
    "elif VelocidadAsteroide >= 20:\n",
    "    print(\"En el cierlo se podrian ver rayos\")\n",
    "else:\n",
    "    print(\"No hay alerta por el momento\")\n"
   ]
  }
 ],
 "metadata": {
  "interpreter": {
   "hash": "e9c8ad4a27d120ab9ea2052d429a34fca458f5979f31d8044e02ef20ca574767"
  },
  "kernelspec": {
   "display_name": "Python 3.10.2 64-bit",
   "language": "python",
   "name": "python3"
  },
  "language_info": {
   "codemirror_mode": {
    "name": "ipython",
    "version": 3
   },
   "file_extension": ".py",
   "mimetype": "text/x-python",
   "name": "python",
   "nbconvert_exporter": "python",
   "pygments_lexer": "ipython3",
   "version": "3.10.2"
  },
  "orig_nbformat": 4
 },
 "nbformat": 4,
 "nbformat_minor": 2
}
