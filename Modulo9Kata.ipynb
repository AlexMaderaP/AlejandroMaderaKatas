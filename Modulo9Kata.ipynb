{
 "cells": [
  {
   "cell_type": "code",
   "execution_count": 6,
   "metadata": {},
   "outputs": [
    {
     "name": "stdout",
     "output_type": "stream",
     "text": [
      " Los niveles de los tanques son:\n",
      "    Tanque 1:5\n",
      "    Tanque 2:6\n",
      "    Tanque 3:7\n",
      "    El promedio es: 6.0\n",
      "    \n"
     ]
    }
   ],
   "source": [
    "def calcularPromedio(average):\n",
    "    promedio = sum(average)/len(average)\n",
    "    return promedio\n",
    "\n",
    "def informeCombustible(inf1,inf2,inf3):\n",
    "    print(f\"\"\" Los niveles de los tanques son:\n",
    "    Tanque 1:{inf1}\n",
    "    Tanque 2:{inf2}\n",
    "    Tanque 3:{inf3}\n",
    "    El promedio es: {calcularPromedio([inf1,inf2,inf3])}\n",
    "    \"\"\")\n",
    "\n",
    "informeCombustible(5,6,7)\n",
    "\n",
    "\n"
   ]
  },
  {
   "cell_type": "code",
   "execution_count": 7,
   "metadata": {},
   "outputs": [
    {
     "name": "stdout",
     "output_type": "stream",
     "text": [
      "Siguiente mision a tierra\n",
      "Duracion: 12\n",
      "principal: 300\n",
      "externo: 200\n"
     ]
    }
   ],
   "source": [
    "def missionInfo(horaLanzamiento, tiempoVuelo, destino, tanqueExterno, tanqueInterno):\n",
    "    print(f\"\"\"Informe de mision:\n",
    "    Hora de lanzamiento: {horaLanzamiento}\n",
    "    Tiempo de vuelo: {tiempoVuelo}\n",
    "    Destino: {destino}\n",
    "    Combustible en tanque externo: {tanqueExterno}\n",
    "    Combustible en tanque interno: {tanqueInterno} \n",
    "    \"\"\")\n",
    "\n",
    "\n",
    "def missionInformation(destino,*minutos,**tanquesCombustible):\n",
    "    print(f'Siguiente mision a {destino}')\n",
    "    print(f'Duracion: {sum(minutos)}')\n",
    "    for title, name in tanquesCombustible.items():\n",
    "        print(f'{title}: {name}')\n",
    "\n",
    "missionInformation(\"tierra\",3,4,5, principal=300, externo=200)"
   ]
  }
 ],
 "metadata": {
  "interpreter": {
   "hash": "e9c8ad4a27d120ab9ea2052d429a34fca458f5979f31d8044e02ef20ca574767"
  },
  "kernelspec": {
   "display_name": "Python 3.10.2 64-bit",
   "language": "python",
   "name": "python3"
  },
  "language_info": {
   "codemirror_mode": {
    "name": "ipython",
    "version": 3
   },
   "file_extension": ".py",
   "mimetype": "text/x-python",
   "name": "python",
   "nbconvert_exporter": "python",
   "pygments_lexer": "ipython3",
   "version": "3.10.2"
  },
  "orig_nbformat": 4
 },
 "nbformat": 4,
 "nbformat_minor": 2
}
